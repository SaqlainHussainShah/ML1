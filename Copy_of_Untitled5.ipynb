{
  "nbformat": 4,
  "nbformat_minor": 0,
  "metadata": {
    "colab": {
      "name": "Copy of Untitled5.ipynb",
      "version": "0.3.2",
      "provenance": [],
      "collapsed_sections": [],
      "include_colab_link": true
    },
    "kernelspec": {
      "name": "python3",
      "display_name": "Python 3"
    }
  },
  "cells": [
    {
      "cell_type": "markdown",
      "metadata": {
        "id": "view-in-github",
        "colab_type": "text"
      },
      "source": [
        "<a href=\"https://colab.research.google.com/github/SaqlainHussainShah/ML1/blob/master/Copy_of_Untitled5.ipynb\" target=\"_parent\"><img src=\"https://colab.research.google.com/assets/colab-badge.svg\" alt=\"Open In Colab\"/></a>"
      ]
    },
    {
      "cell_type": "code",
      "metadata": {
        "id": "ViX_k4eY1VZD",
        "colab_type": "code",
        "colab": {}
      },
      "source": [
        "import glob\n",
        "import pandas as pd\n",
        "import os\n",
        "import urllib\n",
        "import cv2\n",
        "import numpy as np\n",
        "import requests"
      ],
      "execution_count": 0,
      "outputs": []
    },
    {
      "cell_type": "code",
      "metadata": {
        "id": "Kkfbn4081VcT",
        "colab_type": "code",
        "colab": {}
      },
      "source": [
        "allFiles=glob.glob('./data/*.txt')"
      ],
      "execution_count": 0,
      "outputs": []
    },
    {
      "cell_type": "code",
      "metadata": {
        "id": "A_KjeO_e1Vi4",
        "colab_type": "code",
        "outputId": "7cb4402e-ac68-4e62-d781-2e2f443bad01",
        "colab": {
          "base_uri": "https://localhost:8080/",
          "height": 34
        }
      },
      "source": [
        "length=len(allFiles)\n",
        "print(length)"
      ],
      "execution_count": 0,
      "outputs": [
        {
          "output_type": "stream",
          "text": [
            "0\n"
          ],
          "name": "stdout"
        }
      ]
    },
    {
      "cell_type": "code",
      "metadata": {
        "id": "BGjnlVzG1VhH",
        "colab_type": "code",
        "colab": {}
      },
      "source": [
        "i=7"
      ],
      "execution_count": 0,
      "outputs": []
    },
    {
      "cell_type": "code",
      "metadata": {
        "id": "Tasn7J_G1VfC",
        "colab_type": "code",
        "colab": {}
      },
      "source": [
        "while i <length:\n",
        "    i=i+1\n",
        "    file=pd.read_csv(allFiles[i],sep=' ' ,names=[\"id\",\"url\",\"left\",\"top\",\"right\",\"bottom\",\"pose\",\"detection score\",\"curation\"])\n",
        "    linksOfImages=file['url']\n",
        "    lengthOfLinks=len(linksOfImages)\n",
        "    j=0\n",
        "    allFiles[i] = allFiles[i].replace(\".txt\", \"\")\n",
        "    print(\"getting data for : : : : \", allFiles[i])\n",
        "    try:\n",
        "        os.mkdir(allFiles[i])\n",
        "        print(\"created\")\n",
        "    except:\n",
        "        print(\"error\")\n",
        "    finally:\n",
        "        print(\"Succeded\")\n",
        "    for j in range(lengthOfLinks):\n",
        "        \n",
        "        path=allFiles[i]+\"/\"+str(j)+\".jpg\"\n",
        "        \n",
        "        image_url = linksOfImages[j]\n",
        "        if \"nfs.celebrityphoto.com\" in image_url or \"images.cinemaring.com\" in image_url or \"cdn7.staztic.com\" in image_url:\n",
        "            print(\"skipping due to websites connection failure\")\n",
        "        else:\n",
        "            try:\n",
        "#        r = requests.get(url, allow_redirects=True)\n",
        "#        open(path, 'wb').write(r.content)\n",
        "#        urllib.request.urlretrieve(linksOfImages[j], path)\n",
        "#        image = urllib.URLopener()\n",
        "#        image.retrieve(linksOfImages[j],path)\n",
        "#        urllib.request.urlretrieve(linksOfImages[j], path)\n",
        "#        resp = urllib.request.urlopen(linksOfImages[j])\n",
        "#        image = np.asarray(bytearray(resp.read()))\n",
        "\n",
        "#        cv2.imwrite(path, image)\n",
        "        \n",
        "  \n",
        "# URL of the image to be downloaded is defined as image_url \n",
        "                r = requests.get(image_url) # create HTTP response object \n",
        "  \n",
        "# send a HTTP request to the server and save \n",
        "# the HTTP response in a response object called r \n",
        "                with open(path,'wb') as f: \n",
        "          \n",
        "            # Saving received content as a png file in \n",
        "            # binary format \n",
        "          \n",
        "            # write the contents of the response (r.content) \n",
        "            # to a new file in binary mode. \n",
        "                    f.write(r.content)\n",
        "                    print(\"image number ,::: \", j)\n",
        "            except:\n",
        "                print(\"website issues\")\n",
        "            finally:\n",
        "                print(\"i should fetch next file\")\n",
        "\n",
        "\n",
        "\n"
      ],
      "execution_count": 0,
      "outputs": []
    }
  ]
}